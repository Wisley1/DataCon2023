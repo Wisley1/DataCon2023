{
  "nbformat": 4,
  "nbformat_minor": 0,
  "metadata": {
    "colab": {
      "provenance": [],
      "authorship_tag": "ABX9TyOni6+chZmAnQrsshaCgOWt",
      "include_colab_link": true
    },
    "kernelspec": {
      "name": "python3",
      "display_name": "Python 3"
    },
    "language_info": {
      "name": "python"
    }
  },
  "cells": [
    {
      "cell_type": "markdown",
      "metadata": {
        "id": "view-in-github",
        "colab_type": "text"
      },
      "source": [
        "<a href=\"https://colab.research.google.com/github/Wisley1/DataCon2023/blob/models/Models.ipynb\" target=\"_parent\"><img src=\"https://colab.research.google.com/assets/colab-badge.svg\" alt=\"Open In Colab\"/></a>"
      ]
    },
    {
      "cell_type": "code",
      "execution_count": null,
      "metadata": {
        "id": "ep6wDBcREDc9"
      },
      "outputs": [],
      "source": [
        "import pandas as pd\n",
        "import numpy as np\n",
        "import seaborn as sns\n",
        "from sklearn.model_selection import train_test_split"
      ]
    },
    {
      "cell_type": "code",
      "source": [
        "df = pd.read_csv('/content/db_v1.csv')"
      ],
      "metadata": {
        "id": "X9NCvpQeEIm5"
      },
      "execution_count": null,
      "outputs": []
    },
    {
      "cell_type": "code",
      "source": [
        "df.info()"
      ],
      "metadata": {
        "colab": {
          "base_uri": "https://localhost:8080/"
        },
        "id": "9Yolq_XFF82D",
        "outputId": "e066553f-9166-4bdd-85e6-e9f61ace9e60"
      },
      "execution_count": null,
      "outputs": [
        {
          "output_type": "stream",
          "name": "stdout",
          "text": [
            "<class 'pandas.core.frame.DataFrame'>\n",
            "RangeIndex: 429 entries, 0 to 428\n",
            "Data columns (total 45 columns):\n",
            " #   Column                    Non-Null Count  Dtype  \n",
            "---  ------                    --------------  -----  \n",
            " 0   Unnamed: 0                429 non-null    int64  \n",
            " 1   index                     429 non-null    int64  \n",
            " 2   Bacteria                  429 non-null    object \n",
            " 3   NP_Synthesis              429 non-null    object \n",
            " 4   Drug                      429 non-null    object \n",
            " 5   Drug_class_drug_bank      429 non-null    object \n",
            " 6   Drug_dose                 429 non-null    float64\n",
            " 7   NP_concentration          429 non-null    object \n",
            " 8   NP size_min               429 non-null    float64\n",
            " 9   NP size_max               429 non-null    float64\n",
            " 10  NP size_avg               429 non-null    float64\n",
            " 11  shape                     429 non-null    object \n",
            " 12  method                    429 non-null    object \n",
            " 13  ZOI_drug                  429 non-null    float64\n",
            " 14  ZOI_drug_NP               429 non-null    float64\n",
            " 15  MDR_check                 429 non-null    int64  \n",
            " 16  Tax_id                    429 non-null    object \n",
            " 17  kingdom                   429 non-null    object \n",
            " 18  phylum                    429 non-null    object \n",
            " 19  class                     429 non-null    object \n",
            " 20  order                     429 non-null    object \n",
            " 21  family                    429 non-null    object \n",
            " 22  genus                     429 non-null    object \n",
            " 23  species                   429 non-null    object \n",
            " 24  gram                      429 non-null    object \n",
            " 25  avg_Incub_period, h       429 non-null    float64\n",
            " 26  growth_temp, C            429 non-null    float64\n",
            " 27  biosafety_level           429 non-null    float64\n",
            " 28  isolated_from             429 non-null    object \n",
            " 29  chemID                    429 non-null    object \n",
            " 30  prefered_name             429 non-null    object \n",
            " 31  smiles                    429 non-null    object \n",
            " 32  VSA_EState1               429 non-null    float64\n",
            " 33  VSA_EState10              429 non-null    float64\n",
            " 34  VSA_EState7               429 non-null    float64\n",
            " 35  VSA_EState9               429 non-null    float64\n",
            " 36  FractionCSP3              429 non-null    float64\n",
            " 37  NumAliphaticCarbocycles   429 non-null    float64\n",
            " 38  NumAromaticHeterocycles   429 non-null    float64\n",
            " 39  NumAromaticRings          429 non-null    float64\n",
            " 40  NumSaturatedCarbocycles   429 non-null    float64\n",
            " 41  NumSaturatedHeterocycles  429 non-null    float64\n",
            " 42  RingCount                 429 non-null    float64\n",
            " 43  MolLogP                   429 non-null    float64\n",
            " 44  MolMR                     429 non-null    float64\n",
            "dtypes: float64(22), int64(3), object(20)\n",
            "memory usage: 150.9+ KB\n"
          ]
        }
      ]
    },
    {
      "cell_type": "code",
      "source": [
        "df.columns"
      ],
      "metadata": {
        "colab": {
          "base_uri": "https://localhost:8080/"
        },
        "id": "wrYBJAyNFRlF",
        "outputId": "6997eb8a-f531-4f69-bceb-af8b4cf6b1fe"
      },
      "execution_count": null,
      "outputs": [
        {
          "output_type": "execute_result",
          "data": {
            "text/plain": [
              "Index(['Unnamed: 0', 'index', 'Bacteria', 'NP_Synthesis', 'Drug',\n",
              "       'Drug_class_drug_bank', 'Drug_dose', 'NP_concentration', 'NP size_min',\n",
              "       'NP size_max', 'NP size_avg', 'shape', 'method', 'ZOI_drug',\n",
              "       'ZOI_drug_NP', 'MDR_check', 'Tax_id', 'kingdom', 'phylum', 'class',\n",
              "       'order', 'family', 'genus', 'species', 'gram', 'avg_Incub_period, h',\n",
              "       'growth_temp, C', 'biosafety_level', 'isolated_from', 'chemID',\n",
              "       'prefered_name', 'smiles', 'VSA_EState1', 'VSA_EState10', 'VSA_EState7',\n",
              "       'VSA_EState9', 'FractionCSP3', 'NumAliphaticCarbocycles',\n",
              "       'NumAromaticHeterocycles', 'NumAromaticRings',\n",
              "       'NumSaturatedCarbocycles', 'NumSaturatedHeterocycles', 'RingCount',\n",
              "       'MolLogP', 'MolMR'],\n",
              "      dtype='object')"
            ]
          },
          "metadata": {},
          "execution_count": 65
        }
      ]
    },
    {
      "cell_type": "code",
      "source": [
        "df = df.iloc[:, 3:]\n",
        "\n",
        "df.head()"
      ],
      "metadata": {
        "colab": {
          "base_uri": "https://localhost:8080/",
          "height": 518
        },
        "id": "WBPdtzvlEqHl",
        "outputId": "b9a6edd1-8183-4022-d90f-17f2acbafbc3"
      },
      "execution_count": null,
      "outputs": [
        {
          "output_type": "execute_result",
          "data": {
            "text/plain": [
              "                                        NP_Synthesis         Drug  \\\n",
              "0    green_synthesis from fungus  Aspergillus flavus   Vancomycin   \n",
              "1    green_synthesis from fungus  Aspergillus flavus   Gentamicin   \n",
              "2  green_synthesis using Dioscorea bulbifera tube...  Ceftazidime   \n",
              "3  green_synthesis using Dioscorea bulbifera tube...   Ampicillin   \n",
              "4  green_synthesis using Dioscorea bulbifera tube...   Penicillin   \n",
              "\n",
              "               Drug_class_drug_bank  Drug_dose NP_concentration  NP size_min  \\\n",
              "0  Carboxylic acids and derivatives       30.0              100          5.0   \n",
              "1                   Aminoglycosides       10.0              100          5.0   \n",
              "2                           Lactams      500.0               30          8.0   \n",
              "3                           Lactams      500.0               30          8.0   \n",
              "4  Carboxylic acids and derivatives      500.0               30          8.0   \n",
              "\n",
              "   NP size_max  NP size_avg                   shape          method  ...  \\\n",
              "0         30.0         21.0               spherical  disc_diffusion  ...   \n",
              "1         30.0         21.0               spherical  disc_diffusion  ...   \n",
              "2         20.0         13.5  nanorods and triangles  disc_diffusion  ...   \n",
              "3         20.0         13.5  nanorods and triangles  disc_diffusion  ...   \n",
              "4         20.0         13.5  nanorods and triangles  disc_diffusion  ...   \n",
              "\n",
              "   VSA_EState9  FractionCSP3  NumAliphaticCarbocycles NumAromaticHeterocycles  \\\n",
              "0     1.472309      0.424242                      0.0                     0.0   \n",
              "1     3.492765      1.000000                      1.0                     0.0   \n",
              "2     0.000000      0.318182                      0.0                     2.0   \n",
              "3     0.000000      0.437500                      0.0                     0.0   \n",
              "4     0.000000      0.437500                      0.0                     0.0   \n",
              "\n",
              "  NumAromaticRings NumSaturatedCarbocycles NumSaturatedHeterocycles RingCount  \\\n",
              "0              5.0                     0.0                      2.0      12.0   \n",
              "1              0.0                     1.0                      2.0       3.0   \n",
              "2              2.0                     0.0                      1.0       4.0   \n",
              "3              1.0                     0.0                      2.0       3.0   \n",
              "4              1.0                     0.0                      2.0       3.0   \n",
              "\n",
              "  MolLogP     MolMR  \n",
              "0  0.1062  349.2917  \n",
              "1 -3.3275  119.9310  \n",
              "2 -1.2992  129.5559  \n",
              "3  0.3181   89.0289  \n",
              "4 -3.4699   83.1757  \n",
              "\n",
              "[5 rows x 42 columns]"
            ],
            "text/html": [
              "\n",
              "  <div id=\"df-5a662abe-57fd-439f-a36a-a5250a2b8940\">\n",
              "    <div class=\"colab-df-container\">\n",
              "      <div>\n",
              "<style scoped>\n",
              "    .dataframe tbody tr th:only-of-type {\n",
              "        vertical-align: middle;\n",
              "    }\n",
              "\n",
              "    .dataframe tbody tr th {\n",
              "        vertical-align: top;\n",
              "    }\n",
              "\n",
              "    .dataframe thead th {\n",
              "        text-align: right;\n",
              "    }\n",
              "</style>\n",
              "<table border=\"1\" class=\"dataframe\">\n",
              "  <thead>\n",
              "    <tr style=\"text-align: right;\">\n",
              "      <th></th>\n",
              "      <th>NP_Synthesis</th>\n",
              "      <th>Drug</th>\n",
              "      <th>Drug_class_drug_bank</th>\n",
              "      <th>Drug_dose</th>\n",
              "      <th>NP_concentration</th>\n",
              "      <th>NP size_min</th>\n",
              "      <th>NP size_max</th>\n",
              "      <th>NP size_avg</th>\n",
              "      <th>shape</th>\n",
              "      <th>method</th>\n",
              "      <th>...</th>\n",
              "      <th>VSA_EState9</th>\n",
              "      <th>FractionCSP3</th>\n",
              "      <th>NumAliphaticCarbocycles</th>\n",
              "      <th>NumAromaticHeterocycles</th>\n",
              "      <th>NumAromaticRings</th>\n",
              "      <th>NumSaturatedCarbocycles</th>\n",
              "      <th>NumSaturatedHeterocycles</th>\n",
              "      <th>RingCount</th>\n",
              "      <th>MolLogP</th>\n",
              "      <th>MolMR</th>\n",
              "    </tr>\n",
              "  </thead>\n",
              "  <tbody>\n",
              "    <tr>\n",
              "      <th>0</th>\n",
              "      <td>green_synthesis from fungus  Aspergillus flavus</td>\n",
              "      <td>Vancomycin</td>\n",
              "      <td>Carboxylic acids and derivatives</td>\n",
              "      <td>30.0</td>\n",
              "      <td>100</td>\n",
              "      <td>5.0</td>\n",
              "      <td>30.0</td>\n",
              "      <td>21.0</td>\n",
              "      <td>spherical</td>\n",
              "      <td>disc_diffusion</td>\n",
              "      <td>...</td>\n",
              "      <td>1.472309</td>\n",
              "      <td>0.424242</td>\n",
              "      <td>0.0</td>\n",
              "      <td>0.0</td>\n",
              "      <td>5.0</td>\n",
              "      <td>0.0</td>\n",
              "      <td>2.0</td>\n",
              "      <td>12.0</td>\n",
              "      <td>0.1062</td>\n",
              "      <td>349.2917</td>\n",
              "    </tr>\n",
              "    <tr>\n",
              "      <th>1</th>\n",
              "      <td>green_synthesis from fungus  Aspergillus flavus</td>\n",
              "      <td>Gentamicin</td>\n",
              "      <td>Aminoglycosides</td>\n",
              "      <td>10.0</td>\n",
              "      <td>100</td>\n",
              "      <td>5.0</td>\n",
              "      <td>30.0</td>\n",
              "      <td>21.0</td>\n",
              "      <td>spherical</td>\n",
              "      <td>disc_diffusion</td>\n",
              "      <td>...</td>\n",
              "      <td>3.492765</td>\n",
              "      <td>1.000000</td>\n",
              "      <td>1.0</td>\n",
              "      <td>0.0</td>\n",
              "      <td>0.0</td>\n",
              "      <td>1.0</td>\n",
              "      <td>2.0</td>\n",
              "      <td>3.0</td>\n",
              "      <td>-3.3275</td>\n",
              "      <td>119.9310</td>\n",
              "    </tr>\n",
              "    <tr>\n",
              "      <th>2</th>\n",
              "      <td>green_synthesis using Dioscorea bulbifera tube...</td>\n",
              "      <td>Ceftazidime</td>\n",
              "      <td>Lactams</td>\n",
              "      <td>500.0</td>\n",
              "      <td>30</td>\n",
              "      <td>8.0</td>\n",
              "      <td>20.0</td>\n",
              "      <td>13.5</td>\n",
              "      <td>nanorods and triangles</td>\n",
              "      <td>disc_diffusion</td>\n",
              "      <td>...</td>\n",
              "      <td>0.000000</td>\n",
              "      <td>0.318182</td>\n",
              "      <td>0.0</td>\n",
              "      <td>2.0</td>\n",
              "      <td>2.0</td>\n",
              "      <td>0.0</td>\n",
              "      <td>1.0</td>\n",
              "      <td>4.0</td>\n",
              "      <td>-1.2992</td>\n",
              "      <td>129.5559</td>\n",
              "    </tr>\n",
              "    <tr>\n",
              "      <th>3</th>\n",
              "      <td>green_synthesis using Dioscorea bulbifera tube...</td>\n",
              "      <td>Ampicillin</td>\n",
              "      <td>Lactams</td>\n",
              "      <td>500.0</td>\n",
              "      <td>30</td>\n",
              "      <td>8.0</td>\n",
              "      <td>20.0</td>\n",
              "      <td>13.5</td>\n",
              "      <td>nanorods and triangles</td>\n",
              "      <td>disc_diffusion</td>\n",
              "      <td>...</td>\n",
              "      <td>0.000000</td>\n",
              "      <td>0.437500</td>\n",
              "      <td>0.0</td>\n",
              "      <td>0.0</td>\n",
              "      <td>1.0</td>\n",
              "      <td>0.0</td>\n",
              "      <td>2.0</td>\n",
              "      <td>3.0</td>\n",
              "      <td>0.3181</td>\n",
              "      <td>89.0289</td>\n",
              "    </tr>\n",
              "    <tr>\n",
              "      <th>4</th>\n",
              "      <td>green_synthesis using Dioscorea bulbifera tube...</td>\n",
              "      <td>Penicillin</td>\n",
              "      <td>Carboxylic acids and derivatives</td>\n",
              "      <td>500.0</td>\n",
              "      <td>30</td>\n",
              "      <td>8.0</td>\n",
              "      <td>20.0</td>\n",
              "      <td>13.5</td>\n",
              "      <td>nanorods and triangles</td>\n",
              "      <td>disc_diffusion</td>\n",
              "      <td>...</td>\n",
              "      <td>0.000000</td>\n",
              "      <td>0.437500</td>\n",
              "      <td>0.0</td>\n",
              "      <td>0.0</td>\n",
              "      <td>1.0</td>\n",
              "      <td>0.0</td>\n",
              "      <td>2.0</td>\n",
              "      <td>3.0</td>\n",
              "      <td>-3.4699</td>\n",
              "      <td>83.1757</td>\n",
              "    </tr>\n",
              "  </tbody>\n",
              "</table>\n",
              "<p>5 rows × 42 columns</p>\n",
              "</div>\n",
              "      <button class=\"colab-df-convert\" onclick=\"convertToInteractive('df-5a662abe-57fd-439f-a36a-a5250a2b8940')\"\n",
              "              title=\"Convert this dataframe to an interactive table.\"\n",
              "              style=\"display:none;\">\n",
              "        \n",
              "  <svg xmlns=\"http://www.w3.org/2000/svg\" height=\"24px\"viewBox=\"0 0 24 24\"\n",
              "       width=\"24px\">\n",
              "    <path d=\"M0 0h24v24H0V0z\" fill=\"none\"/>\n",
              "    <path d=\"M18.56 5.44l.94 2.06.94-2.06 2.06-.94-2.06-.94-.94-2.06-.94 2.06-2.06.94zm-11 1L8.5 8.5l.94-2.06 2.06-.94-2.06-.94L8.5 2.5l-.94 2.06-2.06.94zm10 10l.94 2.06.94-2.06 2.06-.94-2.06-.94-.94-2.06-.94 2.06-2.06.94z\"/><path d=\"M17.41 7.96l-1.37-1.37c-.4-.4-.92-.59-1.43-.59-.52 0-1.04.2-1.43.59L10.3 9.45l-7.72 7.72c-.78.78-.78 2.05 0 2.83L4 21.41c.39.39.9.59 1.41.59.51 0 1.02-.2 1.41-.59l7.78-7.78 2.81-2.81c.8-.78.8-2.07 0-2.86zM5.41 20L4 18.59l7.72-7.72 1.47 1.35L5.41 20z\"/>\n",
              "  </svg>\n",
              "      </button>\n",
              "      \n",
              "  <style>\n",
              "    .colab-df-container {\n",
              "      display:flex;\n",
              "      flex-wrap:wrap;\n",
              "      gap: 12px;\n",
              "    }\n",
              "\n",
              "    .colab-df-convert {\n",
              "      background-color: #E8F0FE;\n",
              "      border: none;\n",
              "      border-radius: 50%;\n",
              "      cursor: pointer;\n",
              "      display: none;\n",
              "      fill: #1967D2;\n",
              "      height: 32px;\n",
              "      padding: 0 0 0 0;\n",
              "      width: 32px;\n",
              "    }\n",
              "\n",
              "    .colab-df-convert:hover {\n",
              "      background-color: #E2EBFA;\n",
              "      box-shadow: 0px 1px 2px rgba(60, 64, 67, 0.3), 0px 1px 3px 1px rgba(60, 64, 67, 0.15);\n",
              "      fill: #174EA6;\n",
              "    }\n",
              "\n",
              "    [theme=dark] .colab-df-convert {\n",
              "      background-color: #3B4455;\n",
              "      fill: #D2E3FC;\n",
              "    }\n",
              "\n",
              "    [theme=dark] .colab-df-convert:hover {\n",
              "      background-color: #434B5C;\n",
              "      box-shadow: 0px 1px 3px 1px rgba(0, 0, 0, 0.15);\n",
              "      filter: drop-shadow(0px 1px 2px rgba(0, 0, 0, 0.3));\n",
              "      fill: #FFFFFF;\n",
              "    }\n",
              "  </style>\n",
              "\n",
              "      <script>\n",
              "        const buttonEl =\n",
              "          document.querySelector('#df-5a662abe-57fd-439f-a36a-a5250a2b8940 button.colab-df-convert');\n",
              "        buttonEl.style.display =\n",
              "          google.colab.kernel.accessAllowed ? 'block' : 'none';\n",
              "\n",
              "        async function convertToInteractive(key) {\n",
              "          const element = document.querySelector('#df-5a662abe-57fd-439f-a36a-a5250a2b8940');\n",
              "          const dataTable =\n",
              "            await google.colab.kernel.invokeFunction('convertToInteractive',\n",
              "                                                     [key], {});\n",
              "          if (!dataTable) return;\n",
              "\n",
              "          const docLinkHtml = 'Like what you see? Visit the ' +\n",
              "            '<a target=\"_blank\" href=https://colab.research.google.com/notebooks/data_table.ipynb>data table notebook</a>'\n",
              "            + ' to learn more about interactive tables.';\n",
              "          element.innerHTML = '';\n",
              "          dataTable['output_type'] = 'display_data';\n",
              "          await google.colab.output.renderOutput(dataTable, element);\n",
              "          const docLink = document.createElement('div');\n",
              "          docLink.innerHTML = docLinkHtml;\n",
              "          element.appendChild(docLink);\n",
              "        }\n",
              "      </script>\n",
              "    </div>\n",
              "  </div>\n",
              "  "
            ]
          },
          "metadata": {},
          "execution_count": 66
        }
      ]
    },
    {
      "cell_type": "code",
      "source": [
        "#rows_to_drop = [11,12,13,14,19,21,24,25,28,30,31,33,36,37,40,52,53,55,60,75,96,99,123,124,131,156,186]  # Порядковые номера строк, которые нужно удалить\n",
        "#df = df.drop(index = [11,12,13,14,19,21,24,25,28,30,31,33,36,37,40,52,53,55,60,75,96,99,123,124,131,156,186])"
      ],
      "metadata": {
        "id": "cqWiXtW5Ht-8"
      },
      "execution_count": null,
      "outputs": []
    },
    {
      "cell_type": "code",
      "source": [
        "\n",
        "df = df[~df['NP_concentration'].str.contains('/')]\n"
      ],
      "metadata": {
        "id": "UeC0e0o7Mw7C"
      },
      "execution_count": null,
      "outputs": []
    },
    {
      "cell_type": "code",
      "source": [
        "df.NP_concentration.unique()"
      ],
      "metadata": {
        "colab": {
          "base_uri": "https://localhost:8080/"
        },
        "id": "CZh6a-D3L8hs",
        "outputId": "1a8e026a-e22a-4db6-9ace-69ae1f289218"
      },
      "execution_count": null,
      "outputs": [
        {
          "output_type": "execute_result",
          "data": {
            "text/plain": [
              "array(['100', '30', '10', '20'], dtype=object)"
            ]
          },
          "metadata": {},
          "execution_count": 69
        }
      ]
    },
    {
      "cell_type": "code",
      "source": [
        "df['NP_concentration'] = df.NP_concentration.astype(int)\n",
        "df.info()"
      ],
      "metadata": {
        "colab": {
          "base_uri": "https://localhost:8080/"
        },
        "id": "QsnodGSEIURu",
        "outputId": "3047dc26-0597-4829-e38a-e24421c60e15"
      },
      "execution_count": null,
      "outputs": [
        {
          "output_type": "stream",
          "name": "stdout",
          "text": [
            "<class 'pandas.core.frame.DataFrame'>\n",
            "Int64Index: 402 entries, 0 to 428\n",
            "Data columns (total 42 columns):\n",
            " #   Column                    Non-Null Count  Dtype  \n",
            "---  ------                    --------------  -----  \n",
            " 0   NP_Synthesis              402 non-null    object \n",
            " 1   Drug                      402 non-null    object \n",
            " 2   Drug_class_drug_bank      402 non-null    object \n",
            " 3   Drug_dose                 402 non-null    float64\n",
            " 4   NP_concentration          402 non-null    int64  \n",
            " 5   NP size_min               402 non-null    float64\n",
            " 6   NP size_max               402 non-null    float64\n",
            " 7   NP size_avg               402 non-null    float64\n",
            " 8   shape                     402 non-null    object \n",
            " 9   method                    402 non-null    object \n",
            " 10  ZOI_drug                  402 non-null    float64\n",
            " 11  ZOI_drug_NP               402 non-null    float64\n",
            " 12  MDR_check                 402 non-null    int64  \n",
            " 13  Tax_id                    402 non-null    object \n",
            " 14  kingdom                   402 non-null    object \n",
            " 15  phylum                    402 non-null    object \n",
            " 16  class                     402 non-null    object \n",
            " 17  order                     402 non-null    object \n",
            " 18  family                    402 non-null    object \n",
            " 19  genus                     402 non-null    object \n",
            " 20  species                   402 non-null    object \n",
            " 21  gram                      402 non-null    object \n",
            " 22  avg_Incub_period, h       402 non-null    float64\n",
            " 23  growth_temp, C            402 non-null    float64\n",
            " 24  biosafety_level           402 non-null    float64\n",
            " 25  isolated_from             402 non-null    object \n",
            " 26  chemID                    402 non-null    object \n",
            " 27  prefered_name             402 non-null    object \n",
            " 28  smiles                    402 non-null    object \n",
            " 29  VSA_EState1               402 non-null    float64\n",
            " 30  VSA_EState10              402 non-null    float64\n",
            " 31  VSA_EState7               402 non-null    float64\n",
            " 32  VSA_EState9               402 non-null    float64\n",
            " 33  FractionCSP3              402 non-null    float64\n",
            " 34  NumAliphaticCarbocycles   402 non-null    float64\n",
            " 35  NumAromaticHeterocycles   402 non-null    float64\n",
            " 36  NumAromaticRings          402 non-null    float64\n",
            " 37  NumSaturatedCarbocycles   402 non-null    float64\n",
            " 38  NumSaturatedHeterocycles  402 non-null    float64\n",
            " 39  RingCount                 402 non-null    float64\n",
            " 40  MolLogP                   402 non-null    float64\n",
            " 41  MolMR                     402 non-null    float64\n",
            "dtypes: float64(22), int64(2), object(18)\n",
            "memory usage: 135.0+ KB\n"
          ]
        }
      ]
    },
    {
      "cell_type": "code",
      "source": [
        "# Разделение на признаки и целевую переменную\n",
        "X = df.drop(columns=)\n",
        "y = df\n",
        "\n",
        "# Разделение на тренировочную и тестовую выборки\n",
        "X_train, X_test, y_train, y_test = train_test_split(X, y, test_size=0.2, random_state=42)"
      ],
      "metadata": {
        "colab": {
          "base_uri": "https://localhost:8080/",
          "height": 130
        },
        "id": "DkzZhIXmE8Va",
        "outputId": "2632c5d3-8e29-477f-c8d5-df1e0477727b"
      },
      "execution_count": null,
      "outputs": [
        {
          "output_type": "error",
          "ename": "SyntaxError",
          "evalue": "ignored",
          "traceback": [
            "\u001b[0;36m  File \u001b[0;32m\"<ipython-input-71-9ed75a0e75c2>\"\u001b[0;36m, line \u001b[0;32m2\u001b[0m\n\u001b[0;31m    X = df.drop(columns=['NP_Synthesis', 'Drug', 'Drug_class_drug_bank',  axis=1)\u001b[0m\n\u001b[0m                                                                                ^\u001b[0m\n\u001b[0;31mSyntaxError\u001b[0m\u001b[0;31m:\u001b[0m closing parenthesis ')' does not match opening parenthesis '['\n"
          ]
        }
      ]
    }
  ]
}