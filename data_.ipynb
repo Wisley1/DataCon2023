{
  "nbformat": 4,
  "nbformat_minor": 0,
  "metadata": {
    "colab": {
      "provenance": []
    },
    "kernelspec": {
      "name": "python3",
      "display_name": "Python 3"
    },
    "language_info": {
      "name": "python"
    }
  },
  "cells": [
    {
      "cell_type": "code",
      "execution_count": 1,
      "metadata": {
        "colab": {
          "base_uri": "https://localhost:8080/"
        },
        "cellView": "form",
        "id": "wPsY07dJ2x2J",
        "outputId": "e8f85167-b71f-43ad-86c2-3a5e15bbf095"
      },
      "outputs": [
        {
          "output_type": "stream",
          "name": "stdout",
          "text": [
            "Cloning into 'hackathon'...\n",
            "remote: Enumerating objects: 15, done.\u001b[K\n",
            "remote: Counting objects: 100% (15/15), done.\u001b[K\n",
            "remote: Compressing objects: 100% (14/14), done.\u001b[K\n",
            "remote: Total 15 (delta 3), reused 2 (delta 0), pack-reused 0\u001b[K\n",
            "Unpacking objects: 100% (15/15), 22.91 KiB | 2.86 MiB/s, done.\n"
          ]
        }
      ],
      "source": [
        "#@title Download data\n",
        "\n",
        "!git clone https://github.com/dataconHack/hackathon.git"
      ]
    },
    {
      "cell_type": "code",
      "source": [
        "#@title Installs\n",
        "%%capture\n",
        "\n",
        "!pip install klib"
      ],
      "metadata": {
        "cellView": "form",
        "id": "B1iajpAg25b8"
      },
      "execution_count": 2,
      "outputs": []
    },
    {
      "cell_type": "code",
      "source": [
        "#@title Imports\n",
        "\n",
        "import pandas as pd\n",
        "import klib"
      ],
      "metadata": {
        "cellView": "form",
        "id": "HYemGEP-29Kb"
      },
      "execution_count": 3,
      "outputs": []
    },
    {
      "cell_type": "code",
      "source": [
        "# основной датасет (экспериментальные данные)\n",
        "data = pd.read_csv('/content/hackathon/data.csv')\n",
        "data.drop(['Unnamed: 0.1', 'Unnamed: 0'], axis=1, inplace=True)\n",
        "\n",
        "# удалим дубликаты\n",
        "data.drop_duplicates(inplace=True)\n",
        "\n",
        "# дропнем сэмплы, где отсутствуют значения для таргетной переменной\n",
        "data.dropna(subset=['ZOI_drug_NP'], inplace=True)\n",
        "\n",
        "# преобразуем тип данных для таргетной переменной\n",
        "to_replace = {'32+' : '32',\n",
        "              '17+2' : '19'}\n",
        "\n",
        "data.replace(to_replace=to_replace, inplace=True)\n",
        "data['ZOI_drug_NP'] = data['ZOI_drug_NP'].astype(float)\n",
        "\n",
        "# дропнем фичи с большим количеством пропусков\n",
        "data.drop(['ZOI_NP'], axis=1, inplace=True)\n",
        "data.drop(['fold_increase_in_antibacterial_activity (%)'], axis=1, inplace=True)\n",
        "\n",
        "# предполагая важность следующих фичей, дропним сэмплы, в которых они отсутствуют\n",
        "# в дальнейшем при анализе необходимо будет оценить их важность и либо оставить всё как есть,\n",
        "# либо вернуть удаленные сэмплы и дропнуть сами фичи\n",
        "data = data[(data['NP_concentration'].notnull()) & (data['Drug_dose'].notnull() ) & (data['ZOI_drug']).notnull()]\n",
        "klib.missingval_plot(data, figsize=(15,10), sort=True)"
      ],
      "metadata": {
        "colab": {
          "base_uri": "https://localhost:8080/"
        },
        "id": "69E0KgkC3CDU",
        "outputId": "7c9f41b9-1db1-44ad-c069-39f6d4008d12"
      },
      "execution_count": 4,
      "outputs": [
        {
          "output_type": "stream",
          "name": "stdout",
          "text": [
            "Displaying only columns with missing values.\n",
            "No missing values found in the dataset.\n"
          ]
        }
      ]
    },
    {
      "cell_type": "code",
      "source": [
        "# датасет с информацией по лекарствам\n",
        "drug_descriptors = pd.read_csv('/content/hackathon/drug_descriptors.csv')\n",
        "drug_descriptors.drop(['Unnamed: 0'], axis=1, inplace=True)\n",
        "drug_descriptors.rename(columns={'drug' : 'Drug'}, inplace=True)\n",
        "klib.missingval_plot(drug_descriptors)"
      ],
      "metadata": {
        "colab": {
          "base_uri": "https://localhost:8080/"
        },
        "id": "QDPi2VPD4mnq",
        "outputId": "c3fbfb01-a6c6-4e24-d9c8-3ccee33feff8"
      },
      "execution_count": 6,
      "outputs": [
        {
          "output_type": "stream",
          "name": "stdout",
          "text": [
            "No missing values found in the dataset.\n"
          ]
        }
      ]
    },
    {
      "cell_type": "code",
      "source": [
        "# датасет с информацией о бактериях\n",
        "bacterial_descriptors = pd.read_csv('/content/hackathon/bacterial_descriptors.csv')\n",
        "\n",
        "# дропнем фичи с большим количеством пропусков\n",
        "bacterial_descriptors.drop(['subkingdom', 'clade'], axis=1, inplace=True)\n",
        "\n",
        "# так как в датасете содержатся не только бактерии, но и грибы, для которых параметр gram не определен\n",
        "# заменим отсутствующие значения на новую категорию - undefined\n",
        "bacterial_descriptors['gram'] = bacterial_descriptors['gram'].fillna('undefined')\n",
        "klib.missingval_plot(drug_descriptors)"
      ],
      "metadata": {
        "colab": {
          "base_uri": "https://localhost:8080/"
        },
        "id": "wRs5aEHU403v",
        "outputId": "e4dff150-5e5a-4f8a-ff43-60883c8bf35a"
      },
      "execution_count": 7,
      "outputs": [
        {
          "output_type": "stream",
          "name": "stdout",
          "text": [
            "No missing values found in the dataset.\n"
          ]
        }
      ]
    },
    {
      "cell_type": "code",
      "source": [
        "# исправим несоответсвия в названиях бактерий для корректого мерджа\n",
        "to_replace = {'Acinetobacter baumanii' : 'Acinetobacter baumannii',\n",
        "              'Bacillus spp.        ' : 'Bacillus sp.',\n",
        "              'Enterobacter cloacae ' : 'Enterobacter cloacae',\n",
        "              'Salmonella  typhi' : 'Salmonella typhi'}\n",
        "\n",
        "data.replace(to_replace=to_replace, inplace=True)"
      ],
      "metadata": {
        "id": "bZTZqzwN5bGI"
      },
      "execution_count": 8,
      "outputs": []
    },
    {
      "cell_type": "code",
      "source": [
        "# присоединим датасет по бактериям к основному датасету\n",
        "data2 = pd.merge(data, bacterial_descriptors, how='left', on=['Bacteria'])"
      ],
      "metadata": {
        "id": "z9qosJCX5ro9"
      },
      "execution_count": 9,
      "outputs": []
    },
    {
      "cell_type": "code",
      "source": [
        "# присоединим датасет по лекарствам к ранее объединенному датасету\n",
        "data3 = pd.merge(data2, drug_descriptors, how='left', on=['Drug'])"
      ],
      "metadata": {
        "id": "MsjJqzQx6DVZ"
      },
      "execution_count": 11,
      "outputs": []
    }
  ]
}