{
  "nbformat": 4,
  "nbformat_minor": 0,
  "metadata": {
    "colab": {
      "provenance": []
    },
    "kernelspec": {
      "name": "python3",
      "display_name": "Python 3"
    },
    "language_info": {
      "name": "python"
    }
  },
  "cells": [
    {
      "cell_type": "code",
      "execution_count": null,
      "metadata": {
        "colab": {
          "base_uri": "https://localhost:8080/"
        },
        "id": "vB8DVdhmodTO",
        "outputId": "80cfedb1-9bdd-4c0c-a604-6f19697396d5"
      },
      "outputs": [
        {
          "output_type": "stream",
          "name": "stdout",
          "text": [
            "Collecting rdkit\n",
            "  Downloading rdkit-2023.3.2-cp310-cp310-manylinux_2_17_x86_64.manylinux2014_x86_64.whl (29.7 MB)\n",
            "\u001b[2K     \u001b[90m━━━━━━━━━━━━━━━━━━━━━━━━━━━━━━━━━━━━━━━━\u001b[0m \u001b[32m29.7/29.7 MB\u001b[0m \u001b[31m44.8 MB/s\u001b[0m eta \u001b[36m0:00:00\u001b[0m\n",
            "\u001b[?25hRequirement already satisfied: numpy in /usr/local/lib/python3.10/dist-packages (from rdkit) (1.22.4)\n",
            "Requirement already satisfied: Pillow in /usr/local/lib/python3.10/dist-packages (from rdkit) (8.4.0)\n",
            "Installing collected packages: rdkit\n",
            "Successfully installed rdkit-2023.3.2\n"
          ]
        }
      ],
      "source": [
        "!pip install rdkit\n",
        "import pandas as pd\n",
        "from rdkit import Chem\n",
        "from rdkit.Chem import Descriptors"
      ]
    },
    {
      "cell_type": "code",
      "source": [
        "df = pd.read_csv('/content/drug_descriptors.csv')\n",
        "smiles_list = list(df['smiles'])"
      ],
      "metadata": {
        "id": "_su295QIoggg"
      },
      "execution_count": null,
      "outputs": []
    },
    {
      "cell_type": "code",
      "source": [
        "def get_name_descriptors():\n",
        "    with open(file='/content/chosen_descriptors.txt', mode='r') as file:\n",
        "        name_descriptors = file.readlines()\n",
        "        name_descriptors = \"\".join(name_descriptors).split('\\n')[0:len(name_descriptors)]\n",
        "        return name_descriptors\n",
        "\n",
        "\n",
        "name_descriptors = get_name_descriptors()"
      ],
      "metadata": {
        "id": "ba-5MbaBojsm"
      },
      "execution_count": null,
      "outputs": []
    },
    {
      "cell_type": "code",
      "source": [
        "def get_descriptors(mol):\n",
        "    calculator = Descriptors.CalcMolDescriptors(mol)\n",
        "    value_descriptros = []\n",
        "    for i in range(len(name_descriptors)):\n",
        "        value_descriptros.append(calculator[name_descriptors[i]])\n",
        "    return dict(zip(name_descriptors, value_descriptros))"
      ],
      "metadata": {
        "id": "12nD-FUdolx9"
      },
      "execution_count": null,
      "outputs": []
    },
    {
      "cell_type": "code",
      "source": [
        "def get_data_frame(df):\n",
        "    df_final = df.copy()\n",
        "    descriptors_values = []\n",
        "    for smiles in smiles_list:\n",
        "        mol = Chem.MolFromSmiles(smiles)\n",
        "        dict_descriptors = get_descriptors(mol)\n",
        "        descriptors_values.append([dict_descriptors[desc] for desc in name_descriptors])\n",
        "    descriptors_df = pd.DataFrame(descriptors_values, columns=name_descriptors)\n",
        "    df_final = pd.concat([df_final, descriptors_df], axis=1)\n",
        "    return df_final"
      ],
      "metadata": {
        "id": "FJuyIGoPo7Y1"
      },
      "execution_count": null,
      "outputs": []
    },
    {
      "cell_type": "code",
      "source": [
        "get_data_frame(df).to_csv('smiles_descriptors.csv', index=False)"
      ],
      "metadata": {
        "id": "hZhZDxA_o-zm"
      },
      "execution_count": null,
      "outputs": []
    }
  ]
}